{
 "cells": [
  {
   "cell_type": "code",
   "execution_count": null,
   "metadata": {
    "collapsed": true
   },
   "outputs": [],
   "source": [
    "from selenium import webdriver\n",
    "import time\n",
    "import pandas as pd\n",
    "import re\n",
    "\n",
    "from bs4 import BeautifulSoup\n",
    "import urllib\n",
    "from urllib.request import urlopen\n",
    "import requests"
   ]
  },
  {
   "cell_type": "code",
   "execution_count": null,
   "metadata": {
    "collapsed": true
   },
   "outputs": [],
   "source": [
    "url = \"https://www.linkedin.com/jobs/search/?f_TPR=r604800&geoId=102890883&keywords=data%20analyst&location=China&sortBy=DD\"\n",
    "\n",
    "wd = webdriver.Chrome(executable_path=r'C:\\Users\\jiang\\Desktop\\chromedriver.exe')\n",
    "wd.get(url)"
   ]
  },
  {
   "cell_type": "code",
   "execution_count": null,
   "metadata": {},
   "outputs": [],
   "source": [
    "no_of_jobs = wd.find_element_by_css_selector('[class=\"results-context-header__job-count\"]').get_attribute('innerText').replace('+','')\n",
    "no_of_jobs_int=int(no_of_jobs.strip('()').replace(',',''))\n",
    "\n",
    "print(no_of_jobs_int)"
   ]
  },
  {
   "cell_type": "code",
   "execution_count": null,
   "metadata": {},
   "outputs": [],
   "source": [
    "no_of_Newjobs = wd.find_element_by_css_selector('[class=\"results-context-header__new-jobs\"]').get_attribute('innerText').replace('new','')\n",
    "no_of_Newjobs_int=int(no_of_Newjobs.strip('()'))\n",
    "\n",
    "print(no_of_Newjobs_int)"
   ]
  },
  {
   "cell_type": "code",
   "execution_count": null,
   "metadata": {},
   "outputs": [],
   "source": [
    "i = 0\n",
    "while i <= int(no_of_jobs_int/25)+1: \n",
    "    wd.execute_script(\"window.scrollTo(0, document.body.scrollHeight);\")\n",
    "    i = i + 1\n",
    "    try:\n",
    "        wd.find_element_by_css_selector('[class=\"infinite-scroller__show-more-button infinite-scroller__show-more-button--visible\"]').click() # there are more \"查看更多职位” when # > 175\n",
    "        time.sleep(1)\n",
    "    except:\n",
    "        pass\n",
    "        time.sleep(1)\n",
    "    \n",
    "print(wd.find_element_by_class_name('inline-notification__text').get_attribute('innerText'))"
   ]
  },
  {
   "cell_type": "code",
   "execution_count": null,
   "metadata": {
    "collapsed": true
   },
   "outputs": [],
   "source": [
    "job_lists = wd.find_element_by_class_name('jobs-search__results-list')\n",
    "jobs = job_lists.find_elements_by_tag_name('li') # return a list"
   ]
  },
  {
   "cell_type": "code",
   "execution_count": null,
   "metadata": {},
   "outputs": [],
   "source": [
    "len(jobs)"
   ]
  },
  {
   "cell_type": "code",
   "execution_count": null,
   "metadata": {},
   "outputs": [],
   "source": [
    "job_title = []\n",
    "company_name = []\n",
    "location = []\n",
    "posted_time = []\n",
    "\n",
    "job_link = []\n",
    "job_id= []\n",
    "\n",
    "n=0\n",
    "for job in jobs: \n",
    "    job_title0 = job.find_element_by_css_selector('h3').get_attribute('innerText')\n",
    "    job_title.append(job_title0)\n",
    " \n",
    "    company_name0 = job.find_element_by_css_selector('h4').get_attribute('innerText')\n",
    "    company_name.append(company_name0)\n",
    " \n",
    "    location0 = job.find_element_by_css_selector('[class=\"job-search-card__location\"]').get_attribute('innerText')\n",
    "    location.append(location0)\n",
    " \n",
    "    posted_time0 = job.find_element_by_css_selector('div>div>time').get_attribute('datetime')\n",
    "    posted_time.append(posted_time0)\n",
    " \n",
    "    job_link0 = job.find_element_by_css_selector('a').get_attribute('href')\n",
    "    job_link.append(job_link0)\n",
    "\n",
    "    job_id.append(n)\n",
    "    n=n+1\n",
    "print(n)\n"
   ]
  },
  {
   "cell_type": "code",
   "execution_count": null,
   "metadata": {},
   "outputs": [],
   "source": [
    "job_data1 = pd.DataFrame({'Job ID': job_id,'Job Title': job_title,'Company': company_name,'Location': location,'Posted Time': posted_time,'Job Link': job_link})\n",
    "# cleaning description column\n",
    "job_data1.to_csv('LinkedIn Job Data_Data Analyst_initial.csv', index = False)"
   ]
  },
  {
   "cell_type": "code",
   "execution_count": null,
   "metadata": {},
   "outputs": [],
   "source": [
    "jd = []\n",
    "#job_criteria_lists = []\n",
    "posted_time_ago = []\n",
    "seniority = []\n",
    "\n",
    "for n in range(2):\n",
    "    for x in range(50*n,50*n+50):\n",
    "        url = job_link[x]\n",
    "        wd.get(url)\n",
    "    \n",
    "        jd0 = wd.find_element_by_css_selector('[class=\"description__text description__text--rich\"]').get_attribute('innerText')\n",
    "        jd.append(jd0)\n",
    "    \n",
    "        #job_criteria_lists0 = wd.find_elements_by_css_selector('[class=\"description__job-criteria-text description__job-criteria-text--criteria\"]')\n",
    "        #job_criteria_lists.append(job-criteria_lists0)\n",
    "    \n",
    "        seniority0 = wd.find_elements_by_css_selector('[class=\"description__job-criteria-text description__job-criteria-text--criteria\"]')[0].get_attribute('innerText')\n",
    "        seniority.append(seniority0)\n",
    "    \n",
    "        posted_time_ago0 = wd.find_element_by_css_selector('[class=\"posted-time-ago__text posted-time-ago__text--new topcard__flavor--metadata\"]').get_attribute('innerText')\n",
    "        posted_time_ago.append(posted_time_ago0)\n",
    "    \n",
    "        time.sleep(20)\n",
    "    time.sleep(120)\n",
    "    print(n)\n",
    "    \n"
   ]
  },
  {
   "cell_type": "code",
   "execution_count": null,
   "metadata": {
    "collapsed": true
   },
   "outputs": [],
   "source": [
    "for x in range(50*int(len(jobs)/50),len(jobs)+1):\n",
    "    url = job_link[x]\n",
    "    wd.get(url)\n",
    "    \n",
    "    jd0 = wd.find_element_by_css_selector('[class=\"description__text description__text--rich\"]').get_attribute('innerText')\n",
    "    jd.append(jd0)\n",
    "    \n",
    "    #job_criteria_lists0 = wd.find_elements_by_css_selector('[class=\"description__job-criteria-text description__job-criteria-text--criteria\"]')\n",
    "    #job_criteria_lists.append(job-criteria_lists0)\n",
    "    \n",
    "    seniority0 = wd.find_elements_by_css_selector('[class=\"description__job-criteria-text description__job-criteria-text--criteria\"]')[0].get_attribute('innerText')\n",
    "    seniority.append(seniority0)\n",
    "    \n",
    "    posted_time_ago0 = wd.find_element_by_css_selector('[class=\"posted-time-ago__text posted-time-ago__text--new topcard__flavor--metadata\"]').get_attribute('innerText')\n",
    "    posted_time_ago.append(posted_time_ago0)\n",
    "    \n",
    "    time.sleep(5)\n",
    "time.sleep(60)\n",
    "\n",
    "print(x)\n",
    "    \n",
    "    "
   ]
  },
  {
   "cell_type": "code",
   "execution_count": null,
   "metadata": {},
   "outputs": [],
   "source": [
    "len(jd)"
   ]
  },
  {
   "cell_type": "code",
   "execution_count": null,
   "metadata": {
    "collapsed": true
   },
   "outputs": [],
   "source": [
    "job_data2 = pd.DataFrame({'Job ID': job_id,'Job Title': job_title,'Company': company_name,'Job Desc':jd,'Location': location,'Posted Time': posted_time, 'Posted_time_ago': posted_time_ago,'Seniority': seniority, 'Job Link': job_link})\n",
    "job_data2.to_csv('LinkedIn Job Data_Data Analyst_complete.csv', index = False)"
   ]
  },
  {
   "cell_type": "code",
   "execution_count": null,
   "metadata": {
    "collapsed": true
   },
   "outputs": [],
   "source": [
    "df=pd.read_csv('LinkedIn Job Data_Data Analyst_complete.csv')"
   ]
  },
  {
   "cell_type": "code",
   "execution_count": null,
   "metadata": {
    "collapsed": true
   },
   "outputs": [],
   "source": [
    "df.head()"
   ]
  }
 ],
 "metadata": {
  "kernelspec": {
   "display_name": "Python 3",
   "language": "python",
   "name": "python3"
  },
  "language_info": {
   "codemirror_mode": {
    "name": "ipython",
    "version": 3
   },
   "file_extension": ".py",
   "mimetype": "text/x-python",
   "name": "python",
   "nbconvert_exporter": "python",
   "pygments_lexer": "ipython3",
   "version": "3.6.3"
  }
 },
 "nbformat": 4,
 "nbformat_minor": 2
}
