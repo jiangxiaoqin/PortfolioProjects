{
 "cells": [
  {
   "cell_type": "markdown",
   "metadata": {},
   "source": [
    "## Web scraping with BeautifulSoup"
   ]
  },
  {
   "cell_type": "markdown",
   "metadata": {},
   "source": [
    "this demo shows how to use BeautifulSoup to crawl job listing in indeed."
   ]
  },
  {
   "cell_type": "code",
   "execution_count": 25,
   "metadata": {},
   "outputs": [],
   "source": [
    "## Import the necessary packages\n",
    "from bs4 import BeautifulSoup\n",
    "import urllib\n",
    "import re\n",
    "import pandas as pd"
   ]
  },
  {
   "cell_type": "markdown",
   "metadata": {},
   "source": [
    "### 1. Reach the link of jobs first"
   ]
  },
  {
   "cell_type": "markdown",
   "metadata": {},
   "source": [
    "use indeed mobile web version since its html is simplier"
   ]
  },
  {
   "cell_type": "code",
   "execution_count": 26,
   "metadata": {},
   "outputs": [
    {
     "name": "stdout",
     "output_type": "stream",
     "text": [
      "viewjob?jk=7aed7cc38549bce3\n",
      "<class 'str'>\n",
      "https://www.indeed.com/m/viewjob?jk=7aed7cc38549bce3\n",
      "viewjob?jk=9b738179006949c6\n",
      "<class 'str'>\n",
      "https://www.indeed.com/m/viewjob?jk=9b738179006949c6\n",
      "viewjob?jk=56e9ad66b5f392da\n",
      "<class 'str'>\n",
      "https://www.indeed.com/m/viewjob?jk=56e9ad66b5f392da\n",
      "viewjob?jk=7ba20367fa1415e4\n",
      "<class 'str'>\n",
      "https://www.indeed.com/m/viewjob?jk=7ba20367fa1415e4\n",
      "viewjob?jk=8d8506f8352eac32\n",
      "<class 'str'>\n",
      "https://www.indeed.com/m/viewjob?jk=8d8506f8352eac32\n",
      "viewjob?jk=95d9a941220172a1\n",
      "<class 'str'>\n",
      "https://www.indeed.com/m/viewjob?jk=95d9a941220172a1\n",
      "viewjob?jk=624c8f359efae6c0\n",
      "<class 'str'>\n",
      "https://www.indeed.com/m/viewjob?jk=624c8f359efae6c0\n",
      "viewjob?jk=2256ad6801a8503d\n",
      "<class 'str'>\n",
      "https://www.indeed.com/m/viewjob?jk=2256ad6801a8503d\n",
      "viewjob?jk=91ef39342a2a6562\n",
      "<class 'str'>\n",
      "https://www.indeed.com/m/viewjob?jk=91ef39342a2a6562\n",
      "viewjob?jk=a09116a70fc1d56b\n",
      "<class 'str'>\n",
      "https://www.indeed.com/m/viewjob?jk=a09116a70fc1d56b\n"
     ]
    }
   ],
   "source": [
    "from urllib.request import urlopen\n",
    "url = \"https://www.indeed.com/m/jobs?q=data+scientist&l=Los+Angeles%2C+CA\"\n",
    "page = urlopen(url)\n",
    "soup = BeautifulSoup(page, 'lxml')\n",
    "\n",
    "all_matches = soup.find_all('a', attrs={'rel':['nofollow']})\n",
    "for i in all_matches:\n",
    "    print (i['href'])\n",
    "    print (type(i['href']))\n",
    "    print (\"https://www.indeed.com/m/\"+i['href'])"
   ]
  },
  {
   "cell_type": "markdown",
   "metadata": {},
   "source": [
    "### 2. Find the title, company, location and detailed job description for each job"
   ]
  },
  {
   "cell_type": "markdown",
   "metadata": {},
   "source": [
    "Let's first see a brief example:"
   ]
  },
  {
   "cell_type": "code",
   "execution_count": 27,
   "metadata": {},
   "outputs": [],
   "source": [
    "test_html= \\\n",
    "'''\n",
    "<html>\n",
    "\t<body>\n",
    "\t\t<p>\n",
    "\t\t\t<b>\n",
    "\t\t\t\t<font size=\"+1\">Analyst - Data Science</font>\n",
    "\t\t\t</b>\n",
    "\t\t\t<br>The Boston Consulting Group - <span class=\"location\">Los Angeles, CA</span>\n",
    "\t\t</p>\n",
    "\t</body>\n",
    "</html>\n",
    "'''\n"
   ]
  },
  {
   "cell_type": "code",
   "execution_count": 28,
   "metadata": {},
   "outputs": [],
   "source": [
    "bs = BeautifulSoup(test_html,'lxml')"
   ]
  },
  {
   "cell_type": "code",
   "execution_count": 29,
   "metadata": {},
   "outputs": [
    {
     "name": "stdout",
     "output_type": "stream",
     "text": [
      "Analyst - Data Science\n"
     ]
    }
   ],
   "source": [
    "print(bs.body.p.b.font.text)"
   ]
  },
  {
   "cell_type": "code",
   "execution_count": 30,
   "metadata": {},
   "outputs": [
    {
     "name": "stdout",
     "output_type": "stream",
     "text": [
      "\n",
      "\n",
      "Analyst - Data Science\n",
      "\n",
      "The Boston Consulting Group - Los Angeles, CA\n",
      "\n"
     ]
    }
   ],
   "source": [
    "print(bs.body.p.text)"
   ]
  },
  {
   "cell_type": "code",
   "execution_count": 31,
   "metadata": {},
   "outputs": [
    {
     "name": "stdout",
     "output_type": "stream",
     "text": [
      "Los Angeles, CA\n"
     ]
    }
   ],
   "source": [
    "print(bs.body.p.span.text)"
   ]
  },
  {
   "cell_type": "markdown",
   "metadata": {},
   "source": [
    "#### Find title, company, location and job description for one position"
   ]
  },
  {
   "cell_type": "code",
   "execution_count": 32,
   "metadata": {},
   "outputs": [],
   "source": [
    "title = []\n",
    "company = []\n",
    "location = []\n",
    "jd = []\n",
    "for each in all_matches:\n",
    "    jd_url= 'http://www.indeed.com/m/'+each['href']\n",
    "    jd_page = urlopen(jd_url)\n",
    "    jd_soup = BeautifulSoup(jd_page, 'lxml')\n",
    "    jd_desc = jd_soup.findAll('div',attrs={'id':['desc']}) ## find the structure like: <div id=\"desc\"></>\n",
    " \n",
    "    title.append(jd_soup.body.p.b.font.text)\n",
    "    company.append(jd_desc[0].span.text)\n",
    "    location.append(jd_soup.body.p.span.text)\n",
    "    jd.append(jd_desc[0].text)\n",
    "    \n",
    "#     break"
   ]
  },
  {
   "cell_type": "code",
   "execution_count": 33,
   "metadata": {
    "scrolled": true
   },
   "outputs": [
    {
     "name": "stdout",
     "output_type": "stream",
     "text": [
      "Job Category: Information Technology\n",
      "Department: Enterprise Data Strategy\n",
      "Location: Los Angeles, CA, US, 90017\n",
      "Position Type: Full Time\n",
      "Requisition ID: 3621\n",
      "\n",
      "Established in 1997, L.A. Care Health Plan is an independent public agency created by the state of California to provide health coverage to low-income Los Angeles County residents. We are the nation’s largest publicly operated health plan. Serving more than 2 million members in five health plans, we make sure our members get the right care at the right place at the right time.\n",
      "\n",
      "Mission: L.A. Care’s mission is to provide access to quality health care for Los Angeles County's vulnerable and low-income communities and residents and to support the safety net required to achieve that purpose.\n",
      "\n",
      "Job Summary\n",
      "\n",
      "The Data Scientist is responsible for supporting L.A. Care’s strategic business initiatives through the application of predictive analytics as part of production workflows. This individual will lead projects through the iterative data science process (Stating the Question > Exploratory Data Analysis > Model Building > Interpretation > Communication > Operationalization), collaborating with business, I.T., and data subject matter experts from across the enterprise.\n",
      "\n",
      "\n",
      "\n",
      "Duties\n",
      "\n",
      "Ability to query, transform, and integrate data from multiple sources and structures. Research and develop predictive learning models using modeling software.\n",
      "Effective communication of reproducible analyses and results (including failures), both visually and orally, in peer review and customer settings.\n",
      "Collaborate and work closely with other departments to identify gaps and structure problems.\n",
      "Propose solutions and actionable strategies to business challenges.\n",
      "Work closely with domain experts (both business and data) to understand processes and solution inputs.\n",
      "Monitor the performance of operationalized predictive models.\n",
      "Perform other duties as assigned.\n",
      "\n",
      "\n",
      "\n",
      "Education\n",
      "\n",
      "Bachelor's Degree in Computer Science and/or Engineering or related field\n",
      "\n",
      "\n",
      "\n",
      "Experience\n",
      "\n",
      "Required:\n",
      "With Bachelor's Degree: 6-8 years of traditional data analysis, including querying, aggregation, basic\n",
      "statistical analysis, and visualization with the intent to provide business insights (preferably in a health plan).\n",
      "2+ years of applied predictive modeling in a business setting (preferably in a health plan).\n",
      "Preferred:\n",
      "With Master's Degree: 4 years of traditional data analysis, including querying, aggregation, basic statistical\n",
      "analysis, and visualization with the intent to provide business insights (preferably in a health plan).\n",
      "Equivalent Experience:\n",
      "With High School Diploma/GED: 12 years of traditional data analysis, including querying, aggregation, basic\n",
      "statistical analysis, and visualization with the intent to provide business insights (preferably in a health plan).\n",
      "With Associate's Degree: 9 years of traditional data analysis, including querying, aggregation, basic statistical analysis, and visualization with the intent to provide business insights (preferably in a health plan).\n",
      "\n",
      "\n",
      "\n",
      "Skills\n",
      "\n",
      "Required:\n",
      "Working knowledge of relational databases, database structures.\n",
      "Proficiency in Apache Spark, R and SQL (Tableau, Python, and SAS a plus).\n",
      "Exploratory data analysis capabilities to understand the data. e.g., estimates of location and variability, correlation matrices, feature comparison visualization, trend analysis.\n",
      "Regression and classification predictive model development and interpretation using: Heuristic/traditional techniques. e.g., linear regression, logistic regression, Naïve Bayes; Supervised machine learning techniques. e.g., decision trees, bootstrap aggregation, boosting, deep learning; Unsupervised machine learning techniques. e.g., k-means clustering, principal component analysis, hierarchical clustering.\n",
      "Working optimally as part of a cross-functional team.\n",
      "Ability to initiate and drive projects to completion with minimal guidance.\n",
      "Ability to problem solve and quickly find solutions on your own.\n",
      "Strong interpersonal skills, including the ability to influence management at various levels of the organizations.\n",
      "\n",
      "\n",
      "\n",
      "L.A. Care offers a wide range of benefits including\n",
      "Paid Time Off (PTO)\n",
      "Tuition Reimbursement\n",
      "Retirement Plans\n",
      "Medical, Dental and Vision\n",
      "Wellness Program\n",
      "Volunteer Time Off (VTO)\n",
      "\n",
      "\n",
      "Nearest Major Market: Los Angeles\n",
      "\n",
      "Job Segment: Medical, Healthcare\n",
      "L.A. Care Health Plan - \n",
      "2 days ago\n"
     ]
    }
   ],
   "source": [
    "## Job Description\n",
    "print(jd_desc[0].text)"
   ]
  },
  {
   "cell_type": "code",
   "execution_count": 34,
   "metadata": {},
   "outputs": [
    {
     "name": "stdout",
     "output_type": "stream",
     "text": [
      "Data Scientist\n"
     ]
    }
   ],
   "source": [
    "## Job Title \n",
    "print(jd_soup.body.p.b.font.text)"
   ]
  },
  {
   "cell_type": "code",
   "execution_count": 35,
   "metadata": {},
   "outputs": [
    {
     "name": "stdout",
     "output_type": "stream",
     "text": [
      "L.A. Care Health Plan\n",
      "L.A. Care Health Plan \n"
     ]
    }
   ],
   "source": [
    "## Company Name\n",
    "print(jd_desc[0].span.text)\n",
    "print(jd_soup.body.p.span.previous_sibling.split('-')[0][1:])"
   ]
  },
  {
   "cell_type": "code",
   "execution_count": 36,
   "metadata": {},
   "outputs": [
    {
     "data": {
      "text/plain": [
       "['Data Scientist',\n",
       " 'Experience Insights Manager',\n",
       " 'Data Scientist (Entry Level)',\n",
       " 'Data Wrangler',\n",
       " 'Chief Data Scientist',\n",
       " 'Data Scientist',\n",
       " 'Laboratory Assistant (AM)',\n",
       " 'Research Analyst, Amazon Studios Consumer Insights',\n",
       " 'Resesarch Business Administrastor II/III - Epidemiologic Research',\n",
       " 'Data Scientist']"
      ]
     },
     "execution_count": 36,
     "metadata": {},
     "output_type": "execute_result"
    }
   ],
   "source": [
    "title"
   ]
  },
  {
   "cell_type": "markdown",
   "metadata": {},
   "source": [
    "#### Save the data into Data Frame"
   ]
  },
  {
   "cell_type": "code",
   "execution_count": 37,
   "metadata": {},
   "outputs": [],
   "source": [
    "job = {'title': title,\n",
    "         'company': company,\n",
    "         'location': location,\n",
    "         'Job Description': jd}\n",
    "df = pd.DataFrame.from_dict(job)"
   ]
  },
  {
   "cell_type": "code",
   "execution_count": 38,
   "metadata": {},
   "outputs": [
    {
     "data": {
      "text/html": [
       "<div>\n",
       "<style scoped>\n",
       "    .dataframe tbody tr th:only-of-type {\n",
       "        vertical-align: middle;\n",
       "    }\n",
       "\n",
       "    .dataframe tbody tr th {\n",
       "        vertical-align: top;\n",
       "    }\n",
       "\n",
       "    .dataframe thead th {\n",
       "        text-align: right;\n",
       "    }\n",
       "</style>\n",
       "<table border=\"1\" class=\"dataframe\">\n",
       "  <thead>\n",
       "    <tr style=\"text-align: right;\">\n",
       "      <th></th>\n",
       "      <th>title</th>\n",
       "      <th>company</th>\n",
       "      <th>location</th>\n",
       "      <th>Job Description</th>\n",
       "    </tr>\n",
       "  </thead>\n",
       "  <tbody>\n",
       "    <tr>\n",
       "      <th>0</th>\n",
       "      <td>Data Scientist</td>\n",
       "      <td>Kaiser Permanente</td>\n",
       "      <td>Pasadena, CA</td>\n",
       "      <td>The Knowledge Management functional area manag...</td>\n",
       "    </tr>\n",
       "    <tr>\n",
       "      <th>1</th>\n",
       "      <td>Experience Insights Manager</td>\n",
       "      <td>Apple</td>\n",
       "      <td>Los Angeles, CA 90020</td>\n",
       "      <td>Summary\\nPosted: Dec 3, 2018\\nRole Number: 200...</td>\n",
       "    </tr>\n",
       "    <tr>\n",
       "      <th>2</th>\n",
       "      <td>Data Scientist (Entry Level)</td>\n",
       "      <td>HireClout</td>\n",
       "      <td>Los Angeles, CA</td>\n",
       "      <td>Want to work on a profitable, data-focused pro...</td>\n",
       "    </tr>\n",
       "    <tr>\n",
       "      <th>3</th>\n",
       "      <td>Data Wrangler</td>\n",
       "      <td>USC</td>\n",
       "      <td>Los Angeles, CA</td>\n",
       "      <td>Environment\\nThe Lawrence J. Ellison Institute...</td>\n",
       "    </tr>\n",
       "    <tr>\n",
       "      <th>4</th>\n",
       "      <td>Chief Data Scientist</td>\n",
       "      <td>Epix</td>\n",
       "      <td>Culver City, CA 90230</td>\n",
       "      <td>Metro-Goldwyn-Mayer Studios Inc. (\"MGM\") is lo...</td>\n",
       "    </tr>\n",
       "    <tr>\n",
       "      <th>5</th>\n",
       "      <td>Data Scientist</td>\n",
       "      <td>Amazon.com</td>\n",
       "      <td>Santa Monica, CA</td>\n",
       "      <td>Job Description\\nDo you like to solve the most...</td>\n",
       "    </tr>\n",
       "    <tr>\n",
       "      <th>6</th>\n",
       "      <td>Laboratory Assistant (AM)</td>\n",
       "      <td>Olympia Medical Center</td>\n",
       "      <td>Los Angeles, CA 90036</td>\n",
       "      <td>1. Completes laboratory requests with satisfac...</td>\n",
       "    </tr>\n",
       "    <tr>\n",
       "      <th>7</th>\n",
       "      <td>Research Analyst, Amazon Studios Consumer Insi...</td>\n",
       "      <td>Amazon.com</td>\n",
       "      <td>Santa Monica, CA</td>\n",
       "      <td>Job Description\\nWe hire the world’s brightest...</td>\n",
       "    </tr>\n",
       "    <tr>\n",
       "      <th>8</th>\n",
       "      <td>Resesarch Business Administrastor II/III - Epi...</td>\n",
       "      <td>Kaiser Permanente</td>\n",
       "      <td>Pasadena, CA</td>\n",
       "      <td>The incumbent of this position assists the Div...</td>\n",
       "    </tr>\n",
       "    <tr>\n",
       "      <th>9</th>\n",
       "      <td>Data Scientist</td>\n",
       "      <td>L.A. Care Health Plan</td>\n",
       "      <td>Los Angeles, CA 90017</td>\n",
       "      <td>Job Category: Information Technology\\nDepartme...</td>\n",
       "    </tr>\n",
       "  </tbody>\n",
       "</table>\n",
       "</div>"
      ],
      "text/plain": [
       "                                               title                 company  \\\n",
       "0                                     Data Scientist       Kaiser Permanente   \n",
       "1                        Experience Insights Manager                   Apple   \n",
       "2                       Data Scientist (Entry Level)               HireClout   \n",
       "3                                      Data Wrangler                     USC   \n",
       "4                               Chief Data Scientist                    Epix   \n",
       "5                                     Data Scientist              Amazon.com   \n",
       "6                          Laboratory Assistant (AM)  Olympia Medical Center   \n",
       "7  Research Analyst, Amazon Studios Consumer Insi...              Amazon.com   \n",
       "8  Resesarch Business Administrastor II/III - Epi...       Kaiser Permanente   \n",
       "9                                     Data Scientist   L.A. Care Health Plan   \n",
       "\n",
       "                location                                    Job Description  \n",
       "0           Pasadena, CA  The Knowledge Management functional area manag...  \n",
       "1  Los Angeles, CA 90020  Summary\\nPosted: Dec 3, 2018\\nRole Number: 200...  \n",
       "2        Los Angeles, CA  Want to work on a profitable, data-focused pro...  \n",
       "3        Los Angeles, CA  Environment\\nThe Lawrence J. Ellison Institute...  \n",
       "4  Culver City, CA 90230  Metro-Goldwyn-Mayer Studios Inc. (\"MGM\") is lo...  \n",
       "5       Santa Monica, CA  Job Description\\nDo you like to solve the most...  \n",
       "6  Los Angeles, CA 90036  1. Completes laboratory requests with satisfac...  \n",
       "7       Santa Monica, CA  Job Description\\nWe hire the world’s brightest...  \n",
       "8           Pasadena, CA  The incumbent of this position assists the Div...  \n",
       "9  Los Angeles, CA 90017  Job Category: Information Technology\\nDepartme...  "
      ]
     },
     "execution_count": 38,
     "metadata": {},
     "output_type": "execute_result"
    }
   ],
   "source": [
    "df"
   ]
  },
  {
   "cell_type": "markdown",
   "metadata": {},
   "source": [
    "If we don't break the loop above, we can crawl all the job information from one page."
   ]
  },
  {
   "cell_type": "markdown",
   "metadata": {},
   "source": [
    "## 3. Change Pages Automatically"
   ]
  },
  {
   "cell_type": "code",
   "execution_count": 22,
   "metadata": {},
   "outputs": [],
   "source": [
    "title = []\n",
    "company = []\n",
    "location = []\n",
    "jd = []\n",
    "url = \"https://www.indeed.com/m/jobs?q=data+scientist&l=Los+Angeles%2C+CA\"\n",
    "for i in range(2):\n",
    "    \n",
    "    page = urlopen(url)\n",
    "    soup = BeautifulSoup(page, 'lxml')\n",
    "    all_matches = soup.findAll(attrs={'rel':['nofollow']})\n",
    "    for each in all_matches:\n",
    "        jd_url= 'http://www.indeed.com/m/'+each['href']\n",
    "        jd_page =urlopen(jd_url)\n",
    "        jd_soup = BeautifulSoup(jd_page, 'lxml')\n",
    "        jd_desc = jd_soup.findAll(attrs={'id':['desc']})\n",
    "        title.append(jd_soup.body.p.b.font.text)\n",
    "        company.append(jd_desc[0].span.text)\n",
    "        location.append(jd_soup.body.p.span.text)\n",
    "        jd.append(jd_desc[0].text)\n",
    "        \n",
    "    ## Change the pages to Next Page\n",
    "    url_all = soup.findAll(attrs={'rel':['next']})\n",
    "    url = 'http://www.indeed.com/m/'+ str(url_all[0]['href'])\n"
   ]
  },
  {
   "cell_type": "code",
   "execution_count": 23,
   "metadata": {},
   "outputs": [],
   "source": [
    "job = {'title': title,\n",
    "         'company': company,\n",
    "         'location': location,\n",
    "         'Job Description': jd}\n",
    "df = pd.DataFrame.from_dict(job)"
   ]
  },
  {
   "cell_type": "code",
   "execution_count": 24,
   "metadata": {},
   "outputs": [
    {
     "data": {
      "text/html": [
       "<div>\n",
       "<style scoped>\n",
       "    .dataframe tbody tr th:only-of-type {\n",
       "        vertical-align: middle;\n",
       "    }\n",
       "\n",
       "    .dataframe tbody tr th {\n",
       "        vertical-align: top;\n",
       "    }\n",
       "\n",
       "    .dataframe thead th {\n",
       "        text-align: right;\n",
       "    }\n",
       "</style>\n",
       "<table border=\"1\" class=\"dataframe\">\n",
       "  <thead>\n",
       "    <tr style=\"text-align: right;\">\n",
       "      <th></th>\n",
       "      <th>title</th>\n",
       "      <th>company</th>\n",
       "      <th>location</th>\n",
       "      <th>Job Description</th>\n",
       "    </tr>\n",
       "  </thead>\n",
       "  <tbody>\n",
       "    <tr>\n",
       "      <th>0</th>\n",
       "      <td>Data Scientist (Entry Level)</td>\n",
       "      <td>HireClout</td>\n",
       "      <td>Los Angeles, CA</td>\n",
       "      <td>Want to work on a profitable, data-focused pro...</td>\n",
       "    </tr>\n",
       "    <tr>\n",
       "      <th>1</th>\n",
       "      <td>Data Scientist</td>\n",
       "      <td>Kaiser Permanente</td>\n",
       "      <td>Pasadena, CA</td>\n",
       "      <td>The Knowledge Management functional area manag...</td>\n",
       "    </tr>\n",
       "    <tr>\n",
       "      <th>2</th>\n",
       "      <td>Data Scientist</td>\n",
       "      <td>L.A. Care Health Plan</td>\n",
       "      <td>Los Angeles, CA 90017</td>\n",
       "      <td>Job Category: Information Technology\\nDepartme...</td>\n",
       "    </tr>\n",
       "    <tr>\n",
       "      <th>3</th>\n",
       "      <td>Laboratory Assistant (AM)</td>\n",
       "      <td>Olympia Medical Center</td>\n",
       "      <td>Los Angeles, CA 90036</td>\n",
       "      <td>1. Completes laboratory requests with satisfac...</td>\n",
       "    </tr>\n",
       "    <tr>\n",
       "      <th>4</th>\n",
       "      <td>Experience Insights Manager</td>\n",
       "      <td>Apple</td>\n",
       "      <td>Los Angeles, CA 90020</td>\n",
       "      <td>Summary\\nPosted: Dec 3, 2018\\nRole Number: 200...</td>\n",
       "    </tr>\n",
       "    <tr>\n",
       "      <th>5</th>\n",
       "      <td>Receptionist</td>\n",
       "      <td>SARA</td>\n",
       "      <td>Cypress, CA 90630</td>\n",
       "      <td>Description\\nReceptionist\\n\\nJob Summary\\nThis...</td>\n",
       "    </tr>\n",
       "    <tr>\n",
       "      <th>6</th>\n",
       "      <td>Data Scientist</td>\n",
       "      <td>Snap Inc.</td>\n",
       "      <td>Los Angeles, CA</td>\n",
       "      <td>Snap Inc. is a camera company. We believe that...</td>\n",
       "    </tr>\n",
       "    <tr>\n",
       "      <th>7</th>\n",
       "      <td>Data Scientist</td>\n",
       "      <td>Hearts and Science</td>\n",
       "      <td>Burbank, CA</td>\n",
       "      <td>Description:\\n\\nHearts &amp; Science has been insp...</td>\n",
       "    </tr>\n",
       "    <tr>\n",
       "      <th>8</th>\n",
       "      <td>Learning Enrichment Insights Manager</td>\n",
       "      <td>Apple</td>\n",
       "      <td>Los Angeles, CA 90020</td>\n",
       "      <td>Summary\\nPosted: Nov 28, 2018\\nRole Number: 20...</td>\n",
       "    </tr>\n",
       "    <tr>\n",
       "      <th>9</th>\n",
       "      <td>Linguist, Text Classification (Multiple Langua...</td>\n",
       "      <td>Google</td>\n",
       "      <td>Los Angeles, CA</td>\n",
       "      <td>Qualifications\\nMinimum qualifications:\\n\\nBac...</td>\n",
       "    </tr>\n",
       "    <tr>\n",
       "      <th>10</th>\n",
       "      <td>Data Scientist</td>\n",
       "      <td>Workbridge Associates</td>\n",
       "      <td>Marina del Rey, CA</td>\n",
       "      <td>A leading AI based solutions company in Marina...</td>\n",
       "    </tr>\n",
       "    <tr>\n",
       "      <th>11</th>\n",
       "      <td>Statistician I</td>\n",
       "      <td>Public Health Institute</td>\n",
       "      <td>Monrovia, CA 91016</td>\n",
       "      <td>The Children’s Oncology Group (COG) is seeking...</td>\n",
       "    </tr>\n",
       "    <tr>\n",
       "      <th>12</th>\n",
       "      <td>Senior Applied Machine Learning Scientist</td>\n",
       "      <td>Netflix</td>\n",
       "      <td>Los Angeles, CA</td>\n",
       "      <td>Los Angeles, California\\nScience and Analytics...</td>\n",
       "    </tr>\n",
       "    <tr>\n",
       "      <th>13</th>\n",
       "      <td>Analytics - Director -Data Scientist</td>\n",
       "      <td>Merkle Inc.</td>\n",
       "      <td>Culver City, CA</td>\n",
       "      <td>Job Description\\n\\nThe Audience Analytics – M1...</td>\n",
       "    </tr>\n",
       "    <tr>\n",
       "      <th>14</th>\n",
       "      <td>Data Scientist</td>\n",
       "      <td>Snap Inc.</td>\n",
       "      <td>Los Angeles, CA</td>\n",
       "      <td>Snap Inc. is a camera company. We believe that...</td>\n",
       "    </tr>\n",
       "    <tr>\n",
       "      <th>15</th>\n",
       "      <td>Summer Internship - Data Science</td>\n",
       "      <td>Glassdoor</td>\n",
       "      <td>Los Angeles, CA 90079</td>\n",
       "      <td>Tala is a world leader in providing direct loa...</td>\n",
       "    </tr>\n",
       "    <tr>\n",
       "      <th>16</th>\n",
       "      <td>Sr. Data Scientist</td>\n",
       "      <td>Taboola</td>\n",
       "      <td>Los Angeles, CA</td>\n",
       "      <td>Join Taboola's Big Data team as a Sr. Data Sci...</td>\n",
       "    </tr>\n",
       "    <tr>\n",
       "      <th>17</th>\n",
       "      <td>Data Scientist</td>\n",
       "      <td>Hearts and Science</td>\n",
       "      <td>Burbank, CA</td>\n",
       "      <td>Description:\\n\\nHearts &amp; Science has been insp...</td>\n",
       "    </tr>\n",
       "    <tr>\n",
       "      <th>18</th>\n",
       "      <td>Part-time Research Analyst</td>\n",
       "      <td>National Football League</td>\n",
       "      <td>Culver City, CA 90232</td>\n",
       "      <td>The primary job function involves supporting a...</td>\n",
       "    </tr>\n",
       "    <tr>\n",
       "      <th>19</th>\n",
       "      <td>Learning Enrichment Insights Manager</td>\n",
       "      <td>Apple</td>\n",
       "      <td>Los Angeles, CA 90020</td>\n",
       "      <td>Summary\\nPosted: Nov 28, 2018\\nRole Number: 20...</td>\n",
       "    </tr>\n",
       "  </tbody>\n",
       "</table>\n",
       "</div>"
      ],
      "text/plain": [
       "                                                title  \\\n",
       "0                        Data Scientist (Entry Level)   \n",
       "1                                      Data Scientist   \n",
       "2                                      Data Scientist   \n",
       "3                           Laboratory Assistant (AM)   \n",
       "4                         Experience Insights Manager   \n",
       "5                                        Receptionist   \n",
       "6                                      Data Scientist   \n",
       "7                                      Data Scientist   \n",
       "8                Learning Enrichment Insights Manager   \n",
       "9   Linguist, Text Classification (Multiple Langua...   \n",
       "10                                     Data Scientist   \n",
       "11                                     Statistician I   \n",
       "12          Senior Applied Machine Learning Scientist   \n",
       "13               Analytics - Director -Data Scientist   \n",
       "14                                     Data Scientist   \n",
       "15                   Summer Internship - Data Science   \n",
       "16                                 Sr. Data Scientist   \n",
       "17                                     Data Scientist   \n",
       "18                         Part-time Research Analyst   \n",
       "19               Learning Enrichment Insights Manager   \n",
       "\n",
       "                     company               location  \\\n",
       "0                  HireClout        Los Angeles, CA   \n",
       "1          Kaiser Permanente           Pasadena, CA   \n",
       "2      L.A. Care Health Plan  Los Angeles, CA 90017   \n",
       "3     Olympia Medical Center  Los Angeles, CA 90036   \n",
       "4                      Apple  Los Angeles, CA 90020   \n",
       "5                       SARA      Cypress, CA 90630   \n",
       "6                  Snap Inc.        Los Angeles, CA   \n",
       "7         Hearts and Science            Burbank, CA   \n",
       "8                      Apple  Los Angeles, CA 90020   \n",
       "9                     Google        Los Angeles, CA   \n",
       "10     Workbridge Associates     Marina del Rey, CA   \n",
       "11   Public Health Institute     Monrovia, CA 91016   \n",
       "12                   Netflix        Los Angeles, CA   \n",
       "13               Merkle Inc.        Culver City, CA   \n",
       "14                 Snap Inc.        Los Angeles, CA   \n",
       "15                 Glassdoor  Los Angeles, CA 90079   \n",
       "16                   Taboola        Los Angeles, CA   \n",
       "17        Hearts and Science            Burbank, CA   \n",
       "18  National Football League  Culver City, CA 90232   \n",
       "19                     Apple  Los Angeles, CA 90020   \n",
       "\n",
       "                                      Job Description  \n",
       "0   Want to work on a profitable, data-focused pro...  \n",
       "1   The Knowledge Management functional area manag...  \n",
       "2   Job Category: Information Technology\\nDepartme...  \n",
       "3   1. Completes laboratory requests with satisfac...  \n",
       "4   Summary\\nPosted: Dec 3, 2018\\nRole Number: 200...  \n",
       "5   Description\\nReceptionist\\n\\nJob Summary\\nThis...  \n",
       "6   Snap Inc. is a camera company. We believe that...  \n",
       "7   Description:\\n\\nHearts & Science has been insp...  \n",
       "8   Summary\\nPosted: Nov 28, 2018\\nRole Number: 20...  \n",
       "9   Qualifications\\nMinimum qualifications:\\n\\nBac...  \n",
       "10  A leading AI based solutions company in Marina...  \n",
       "11  The Children’s Oncology Group (COG) is seeking...  \n",
       "12  Los Angeles, California\\nScience and Analytics...  \n",
       "13  Job Description\\n\\nThe Audience Analytics – M1...  \n",
       "14  Snap Inc. is a camera company. We believe that...  \n",
       "15  Tala is a world leader in providing direct loa...  \n",
       "16  Join Taboola's Big Data team as a Sr. Data Sci...  \n",
       "17  Description:\\n\\nHearts & Science has been insp...  \n",
       "18  The primary job function involves supporting a...  \n",
       "19  Summary\\nPosted: Nov 28, 2018\\nRole Number: 20...  "
      ]
     },
     "execution_count": 24,
     "metadata": {},
     "output_type": "execute_result"
    }
   ],
   "source": [
    "df"
   ]
  },
  {
   "cell_type": "code",
   "execution_count": null,
   "metadata": {},
   "outputs": [],
   "source": []
  }
 ],
 "metadata": {
  "kernelspec": {
   "display_name": "Python 3",
   "language": "python",
   "name": "python3"
  },
  "language_info": {
   "codemirror_mode": {
    "name": "ipython",
    "version": 3
   },
   "file_extension": ".py",
   "mimetype": "text/x-python",
   "name": "python",
   "nbconvert_exporter": "python",
   "pygments_lexer": "ipython3",
   "version": "3.7.0"
  }
 },
 "nbformat": 4,
 "nbformat_minor": 1
}
